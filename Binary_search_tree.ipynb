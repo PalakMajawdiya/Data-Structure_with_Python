{
 "cells": [
  {
   "cell_type": "markdown",
   "metadata": {},
   "source": [
    "### **Initialize BST**"
   ]
  },
  {
   "cell_type": "code",
   "execution_count": 1,
   "metadata": {},
   "outputs": [
    {
     "name": "stdout",
     "output_type": "stream",
     "text": [
      "10\n",
      "None\n",
      "None\n"
     ]
    }
   ],
   "source": [
    "class BST:\n",
    "    def __init__(self,key):\n",
    "        self.key = key\n",
    "        self.lchild = None\n",
    "        self.rchild = None\n",
    "        \n",
    "root = BST(10)\n",
    "print(root.key)\n",
    "print(root.lchild)\n",
    "print(root.rchild)"
   ]
  },
  {
   "cell_type": "markdown",
   "metadata": {},
   "source": [
    "### **Insertion in BST**"
   ]
  },
  {
   "cell_type": "code",
   "execution_count": 2,
   "metadata": {},
   "outputs": [],
   "source": [
    "class BST:\n",
    "    def __init__(self,key):\n",
    "        self.key = key\n",
    "        self.lchild = None\n",
    "        self.rchild = None\n",
    "        \n",
    "    def insert(self,data):\n",
    "        if self.key is None:\n",
    "            self.key = key\n",
    "            return\n",
    "        if self.key == data:\n",
    "            return\n",
    "        if self.key > data:\n",
    "            if self.lchild:\n",
    "                self.lchild.insert(data)\n",
    "            else:\n",
    "                self.lchild = BST(data)\n",
    "                \n",
    "        else:\n",
    "            if self.rchild:\n",
    "                self.rchild.insert(data)\n",
    "            else:\n",
    "                self.rchild = BST(data)\n",
    "                \n",
    "root = BST(10)\n",
    "list1 = [20,4,30,4,1,5,6]\n",
    "for i in list1:\n",
    "    root.insert(i)"
   ]
  },
  {
   "cell_type": "markdown",
   "metadata": {},
   "source": [
    "### **Search Operation**"
   ]
  },
  {
   "cell_type": "code",
   "execution_count": 5,
   "metadata": {},
   "outputs": [
    {
     "name": "stdout",
     "output_type": "stream",
     "text": [
      "Node is found\n",
      "Node is not present in tree\n"
     ]
    }
   ],
   "source": [
    "class BST:\n",
    "    def __init__(self,key):\n",
    "        self.key = key\n",
    "        self.lchild = None\n",
    "        self.rchild = None\n",
    "        \n",
    "    def insert(self,data):\n",
    "        if self.key == None:\n",
    "            self.key = data\n",
    "            return\n",
    "        if self.key == data:\n",
    "            return\n",
    "        if self.key > data:\n",
    "            if self.lchild:\n",
    "                self.lchild.insert(data)\n",
    "            else:\n",
    "                self.lchild = BST(data)\n",
    "        else:\n",
    "            if self.rchild:\n",
    "                self.rchild.insert(data)\n",
    "            else:\n",
    "                self.rchild = BST(data)\n",
    "                \n",
    "    def search(self,data):\n",
    "        if self.key == data:\n",
    "            print(\"Node is found\")\n",
    "            return\n",
    "        if self.key > data:\n",
    "            if self.lchild:\n",
    "                self.lchild.search(data)\n",
    "            else:\n",
    "                print(\"Node is not present in tree\")\n",
    "        else:\n",
    "            if self.rchild:\n",
    "                self.rchild.search(data)\n",
    "            else:\n",
    "                print(\"Node is not present in tree\")\n",
    "                \n",
    "                \n",
    "root = BST(None)\n",
    "list1 = [6,3,1,98,3,7,6]\n",
    "for i in list1:\n",
    "    root.insert(i)\n",
    "    \n",
    "root.search(6)\n",
    "root.search(60)"
   ]
  },
  {
   "cell_type": "markdown",
   "metadata": {},
   "source": [
    "### **Pre-Order Traversal**"
   ]
  },
  {
   "cell_type": "code",
   "execution_count": 8,
   "metadata": {},
   "outputs": [
    {
     "name": "stdout",
     "output_type": "stream",
     "text": [
      "21 10 5 3 7 12 30 25 100 "
     ]
    }
   ],
   "source": [
    "class BST:\n",
    "    def __init__(self,key):\n",
    "        self.key = key\n",
    "        self.lchild = None\n",
    "        self.rchild = None\n",
    "        \n",
    "    def insert(self,data):\n",
    "        if self.key == None:\n",
    "            self.key = data\n",
    "            return\n",
    "        if self.key == data:\n",
    "            return\n",
    "        if self.key > data:\n",
    "            if self.lchild:\n",
    "                self.lchild.insert(data)\n",
    "            else:\n",
    "                self.lchild = BST(data)\n",
    "        else:\n",
    "            if self.rchild:\n",
    "                self.rchild.insert(data)\n",
    "            else:\n",
    "                self.rchild = BST(data)\n",
    "        \n",
    "    def preorder(self):\n",
    "        print(self.key,end = \" \")\n",
    "        if self.lchild:\n",
    "            self.lchild.preorder()\n",
    "        if self.rchild:\n",
    "            self.rchild.preorder()\n",
    "            \n",
    "            \n",
    "            \n",
    "root = BST(None)\n",
    "list1 = [21,10,5,12,3,7,30,25,100]\n",
    "for i in list1:\n",
    "    root.insert(i)\n",
    "    \n",
    "root.preorder()"
   ]
  },
  {
   "cell_type": "markdown",
   "metadata": {},
   "source": [
    "### **In-Order Traversal and Post-order Traversal**"
   ]
  },
  {
   "cell_type": "code",
   "execution_count": 13,
   "metadata": {},
   "outputs": [
    {
     "name": "stdout",
     "output_type": "stream",
     "text": [
      "Pre-Order:  21 10 5 3 7 12 30 25 100 \n",
      "In-Order:  3 5 7 10 12 21 25 30 100 \n",
      "Post-Order:  3 7 5 12 10 25 100 30 21 "
     ]
    }
   ],
   "source": [
    "class BST:\n",
    "    def __init__(self,key):\n",
    "        self.key = key\n",
    "        self.lchild = None\n",
    "        self.rchild = None\n",
    "        \n",
    "    def insert(self,data):\n",
    "        if self.key == None:\n",
    "            self.key = data\n",
    "            return\n",
    "        if self.key == data:\n",
    "            return\n",
    "        if self.key > data:\n",
    "            if self.lchild:\n",
    "                self.lchild.insert(data)\n",
    "            else:\n",
    "                self.lchild = BST(data)\n",
    "        else:\n",
    "            if self.rchild:\n",
    "                self.rchild.insert(data)\n",
    "            else:\n",
    "                self.rchild = BST(data)\n",
    "                \n",
    "    def preorder(self):\n",
    "        print(self.key,end = \" \")\n",
    "        if self.lchild:\n",
    "            self.lchild.preorder()\n",
    "        if self.rchild:\n",
    "            self.rchild.preorder()\n",
    "            \n",
    "    def inorder(self):\n",
    "        if self.lchild:\n",
    "            self.lchild.inorder()\n",
    "        print(self.key,end = \" \")\n",
    "        if self.rchild:\n",
    "            self.rchild.inorder()\n",
    "            \n",
    "    def postorder(self):\n",
    "        if self.lchild:\n",
    "            self.lchild.postorder()\n",
    "        if self.rchild:\n",
    "            self.rchild.postorder()\n",
    "        print(self.key,end = \" \")\n",
    "        \n",
    "        \n",
    "root = BST(None)\n",
    "list1 = [21,10,5,12,3,7,30,25,100]\n",
    "for i in list1:\n",
    "    root.insert(i)\n",
    "    \n",
    "print(\"Pre-Order: \",end = \" \")\n",
    "root.preorder()\n",
    "print()\n",
    "print(\"In-Order: \",end = \" \")\n",
    "root.inorder()\n",
    "print()\n",
    "print(\"Post-Order: \",end = \" \")\n",
    "root.postorder()"
   ]
  },
  {
   "cell_type": "markdown",
   "metadata": {},
   "source": [
    "### **Deletion(except root node with 1 child)**"
   ]
  },
  {
   "cell_type": "code",
   "execution_count": 15,
   "metadata": {},
   "outputs": [
    {
     "name": "stdout",
     "output_type": "stream",
     "text": [
      "Before deletion:  3 5 7 10 12 21 25 30 100 \n",
      "After deletion:  3 5 7 10 12 21 30 100 "
     ]
    }
   ],
   "source": [
    "class BST:\n",
    "    def __init__(self,key):\n",
    "        self.key = key\n",
    "        self.lchild = None\n",
    "        self.rchild = None\n",
    "        \n",
    "    def insert(self,data):\n",
    "        if self.key == None:\n",
    "            self.key = data\n",
    "            return\n",
    "        if self.key == data:\n",
    "            return\n",
    "        if self.key > data:\n",
    "            if self.lchild:\n",
    "                self.lchild.insert(data)\n",
    "            else:\n",
    "                self.lchild = BST(data)\n",
    "        else:\n",
    "            if self.rchild:\n",
    "                self.rchild.insert(data)\n",
    "            else:\n",
    "                self.rchild = BST(data)\n",
    "                \n",
    "    def inorder(self):\n",
    "        if self.lchild:\n",
    "            self.lchild.inorder()\n",
    "        print(self.key,end = \" \")\n",
    "        if self.rchild:\n",
    "            self.rchild.inorder()\n",
    "            \n",
    "    def delete(self,data):\n",
    "        if self.key is None:\n",
    "            print(\"Tree is empty\")\n",
    "            return\n",
    "        if self.key > data:\n",
    "            if self.lchild:\n",
    "                self.lchild = self.lchild.delete(data)\n",
    "            else:\n",
    "                print(\"Given node is not present in a tree\")\n",
    "                \n",
    "        elif self.key < data:\n",
    "            if self.rchild:\n",
    "                self.rchild = self.rchild.delete(data)\n",
    "            else:\n",
    "                print(\"Given node is not present in a tree\")\n",
    "                \n",
    "        else:\n",
    "            if self.lchild is None:\n",
    "                temp = self.rchild\n",
    "                self = None\n",
    "                return temp\n",
    "            if self.rchild is None:\n",
    "                temp = self.lchild\n",
    "                self = None\n",
    "                return temp\n",
    "            node = self.rchild\n",
    "            while node.lchild:\n",
    "                node = node.lchild\n",
    "            self.key = node.key\n",
    "            self.rchild = self.rchild.delete(node.key)\n",
    "        return self\n",
    "    \n",
    "    \n",
    "root = BST(None)\n",
    "list1 = [21,10,30,5,12,25,100,3,7]\n",
    "for i in list1:\n",
    "    root.insert(i)\n",
    "print(\"Before deletion: \",end = \" \")\n",
    "root.inorder()\n",
    "print()\n",
    "print(\"After deletion: \",end = \" \")\n",
    "root.delete(25)\n",
    "root.inorder()\n",
    "            \n",
    "            "
   ]
  },
  {
   "cell_type": "markdown",
   "metadata": {},
   "source": [
    "### **Minimum and Maximum node in a tree**"
   ]
  },
  {
   "cell_type": "code",
   "execution_count": 19,
   "metadata": {},
   "outputs": [
    {
     "name": "stdout",
     "output_type": "stream",
     "text": [
      "3 5 7 10 12 21 25 30 100 \n",
      "Node with smallest key is:  3\n",
      "Node with largest key is:  100\n"
     ]
    }
   ],
   "source": [
    "class BST:\n",
    "    def __init__(self,key):\n",
    "        self.key = key\n",
    "        self.lchild = None\n",
    "        self.rchild = None\n",
    "        \n",
    "    def insert(self,data):\n",
    "        if self.key == None:\n",
    "            self.key = data\n",
    "            return\n",
    "        if self.key == data:\n",
    "            return\n",
    "        if self.key > data:\n",
    "            if self.lchild:\n",
    "                self.lchild.insert(data)\n",
    "            else:\n",
    "                self.lchild = BST(data)\n",
    "        else:\n",
    "            if self.rchild:\n",
    "                self.rchild.insert(data)\n",
    "            else:\n",
    "                self.rchild = BST(data)\n",
    "                \n",
    "    def inorder(self):\n",
    "        if self.lchild:\n",
    "            self.lchild.inorder()\n",
    "        print(self.key,end = \" \")\n",
    "        if self.rchild:\n",
    "            self.rchild.inorder()\n",
    "            \n",
    "    def min_node(self):\n",
    "        current = self\n",
    "        while current.lchild:\n",
    "            current = current.lchild\n",
    "        print(\"Node with smallest key is: \",current.key)\n",
    "        \n",
    "    def max_node(self):\n",
    "        current = self\n",
    "        while current.rchild:\n",
    "            current = current.rchild\n",
    "        print(\"Node with largest key is: \",current.key)\n",
    "        \n",
    "        \n",
    "root = BST(None)\n",
    "list1 = [21,10,30,5,12,25,100,3,7]\n",
    "for i in list1:\n",
    "    root.insert(i)\n",
    "root.inorder()\n",
    "print()\n",
    "root.min_node()\n",
    "root.max_node()"
   ]
  },
  {
   "cell_type": "code",
   "execution_count": null,
   "metadata": {},
   "outputs": [],
   "source": []
  }
 ],
 "metadata": {
  "kernelspec": {
   "display_name": "Python 3",
   "language": "python",
   "name": "python3"
  },
  "language_info": {
   "codemirror_mode": {
    "name": "ipython",
    "version": 3
   },
   "file_extension": ".py",
   "mimetype": "text/x-python",
   "name": "python",
   "nbconvert_exporter": "python",
   "pygments_lexer": "ipython3",
   "version": "3.8.3"
  }
 },
 "nbformat": 4,
 "nbformat_minor": 4
}
