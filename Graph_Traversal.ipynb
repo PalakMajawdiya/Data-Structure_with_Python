{
 "cells": [
  {
   "cell_type": "markdown",
   "metadata": {},
   "source": [
    "## Depth First Search Implementation using Stack Data Structure"
   ]
  },
  {
   "cell_type": "markdown",
   "metadata": {},
   "source": [
    "### Using Recursion approach"
   ]
  },
  {
   "cell_type": "code",
   "execution_count": 5,
   "metadata": {},
   "outputs": [
    {
     "name": "stdout",
     "output_type": "stream",
     "text": [
      "A C D B E "
     ]
    }
   ],
   "source": [
    "def add_node(v):\n",
    "    if v in graph:\n",
    "        print(v,\"is already present in the graph\")\n",
    "    else:\n",
    "        graph[v] = []\n",
    "        \n",
    "def add_edge(v1,v2):\n",
    "    if v1 not in graph:\n",
    "        print(v1,\"is not present in the graph\")\n",
    "    elif v2 not in graph:\n",
    "        print(v2,\"is not present in the graph\")\n",
    "    else:\n",
    "        graph[v1].append(v2)\n",
    "        graph[v2].append(v1)\n",
    "        \n",
    "def DFS(node,visited,graph):\n",
    "    if node not in graph:\n",
    "        print(node,\"is not present in the graph\")\n",
    "        return\n",
    "    if node not in visited:\n",
    "        print(node,end = \" \")\n",
    "        visited.add(node)\n",
    "        for i in graph[node]:\n",
    "            DFS(i,visited,graph)\n",
    "            \n",
    "visited = set()\n",
    "graph = {}\n",
    "add_node('A')\n",
    "add_node('B')\n",
    "add_node('C')\n",
    "add_node('D')\n",
    "add_node('E')\n",
    "add_edge('A','C')\n",
    "add_edge('A','B')\n",
    "add_edge('B','E')\n",
    "add_edge('B','D')\n",
    "add_edge('A','D')\n",
    "add_edge('C','D')\n",
    "DFS('A',visited,graph)"
   ]
  },
  {
   "cell_type": "markdown",
   "metadata": {},
   "source": [
    "### Using Iterative approach"
   ]
  },
  {
   "cell_type": "code",
   "execution_count": 7,
   "metadata": {},
   "outputs": [
    {
     "name": "stdout",
     "output_type": "stream",
     "text": [
      "A D C B E "
     ]
    }
   ],
   "source": [
    "def add_node(v):\n",
    "    if v in graph:\n",
    "        print(v,\"is already present in the graph\")\n",
    "    else:\n",
    "        graph[v] = []\n",
    "        \n",
    "def add_edge(v1,v2):\n",
    "    if v1 not in graph:\n",
    "        print(v1,\"is not present in the graph\")\n",
    "    elif v2 not in graph:\n",
    "        print(v2,\"is not present in the graph\")\n",
    "    else:\n",
    "        graph[v1].append(v2)\n",
    "        graph[v2].append(v1)\n",
    "        \n",
    "def DFS(node,graph):\n",
    "    visited = set()\n",
    "    if node not in graph:\n",
    "        print(node,\"is not present in the graph\")\n",
    "        return\n",
    "    stack = []\n",
    "    stack.append(node)\n",
    "    while stack:\n",
    "        current = stack.pop()\n",
    "        if current not in visited:\n",
    "            print(current,end = \" \")\n",
    "            visited.add(current)\n",
    "            for i in graph[current]:\n",
    "                stack.append(i)\n",
    "                \n",
    "graph = {}\n",
    "add_node('A')\n",
    "add_node('B')\n",
    "add_node('C')\n",
    "add_node('D')\n",
    "add_node('E')\n",
    "add_edge('A','C')\n",
    "add_edge('A','B')\n",
    "add_edge('B','E')\n",
    "add_edge('B','D')\n",
    "add_edge('A','D')\n",
    "add_edge('C','D')\n",
    "DFS('A',graph)\n",
    "   "
   ]
  },
  {
   "cell_type": "code",
   "execution_count": null,
   "metadata": {},
   "outputs": [],
   "source": []
  }
 ],
 "metadata": {
  "kernelspec": {
   "display_name": "Python 3",
   "language": "python",
   "name": "python3"
  },
  "language_info": {
   "codemirror_mode": {
    "name": "ipython",
    "version": 3
   },
   "file_extension": ".py",
   "mimetype": "text/x-python",
   "name": "python",
   "nbconvert_exporter": "python",
   "pygments_lexer": "ipython3",
   "version": "3.8.3"
  }
 },
 "nbformat": 4,
 "nbformat_minor": 4
}
