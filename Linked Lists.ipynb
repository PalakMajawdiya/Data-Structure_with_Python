{
 "cells": [
  {
   "cell_type": "code",
   "execution_count": 6,
   "metadata": {},
   "outputs": [
    {
     "name": "stdout",
     "output_type": "stream",
     "text": [
      "<__main__.Node object at 0x054B75E0>\n",
      "10\n",
      "None\n"
     ]
    }
   ],
   "source": [
    "class Node:\n",
    "    def __init__(self,data):\n",
    "        self.data = data\n",
    "        self.ref = None\n",
    "        \n",
    "Node1 = Node(10)\n",
    "print(Node1)\n",
    "print(Node1.data)\n",
    "print(Node1.ref)"
   ]
  },
  {
   "cell_type": "code",
   "execution_count": 15,
   "metadata": {},
   "outputs": [
    {
     "name": "stdout",
     "output_type": "stream",
     "text": [
      "Linked Lists is empty\n"
     ]
    }
   ],
   "source": [
    "#Creating Node \n",
    "\n",
    "class Node:\n",
    "    def __init__(self,data):\n",
    "        self.data = data\n",
    "        self.ref = None\n",
    "\n",
    "#Traversing operation\n",
    "\n",
    "class LinkedLists:\n",
    "    def __init__(self):\n",
    "        self.head = None\n",
    "    def PrintLL(self):\n",
    "        if self.head is None:\n",
    "            print(\"Linked Lists is empty\")\n",
    "        else:\n",
    "            n = self.head\n",
    "            while n is not None:\n",
    "                print(n.data)\n",
    "                n = n.ref\n",
    "                \n",
    "LL = LinkedLists()\n",
    "LL.PrintLL()"
   ]
  },
  {
   "cell_type": "markdown",
   "metadata": {},
   "source": [
    "### **Insertion at the beginning of a LinkedLists**\n"
   ]
  },
  {
   "cell_type": "code",
   "execution_count": 6,
   "metadata": {},
   "outputs": [
    {
     "name": "stdout",
     "output_type": "stream",
     "text": [
      "40 30 20 10 "
     ]
    }
   ],
   "source": [
    "class Node:\n",
    "    def __init__(self,data):\n",
    "        self.data = data\n",
    "        self.ref = None\n",
    "        \n",
    "class LinkedList:\n",
    "    def __init__(self):\n",
    "        self.head = None\n",
    "    def print_LL(self):\n",
    "        n = self.head\n",
    "        if self.head is None:\n",
    "            print(\"Linked Lists is empty\")\n",
    "        else:\n",
    "            while n is not None:\n",
    "                print(n.data , end = \" \")\n",
    "                n = n.ref\n",
    "    def add_begin(self,data):\n",
    "        new_node = Node(data)\n",
    "        new_node.ref = self.head\n",
    "        self.head = new_node\n",
    "        \n",
    "LL1 = LinkedList()\n",
    "LL1.add_begin(10)\n",
    "LL1.add_begin(20)\n",
    "LL1.add_begin(30)\n",
    "LL1.add_begin(40)\n",
    "LL1.print_LL()\n",
    "    \n",
    "            "
   ]
  },
  {
   "cell_type": "markdown",
   "metadata": {},
   "source": [
    " ### **Insertion at the Ending of a LinkedLists**"
   ]
  },
  {
   "cell_type": "code",
   "execution_count": 3,
   "metadata": {},
   "outputs": [
    {
     "name": "stdout",
     "output_type": "stream",
     "text": [
      "15 10 75 85 "
     ]
    }
   ],
   "source": [
    "class Node:\n",
    "    def __init__(self,data):\n",
    "        self.data = data\n",
    "        self.ref = None\n",
    "        \n",
    "class LinkedLists:\n",
    "    def __init__(self):\n",
    "        self.head = None\n",
    "        \n",
    "    def print_LL(self):\n",
    "        n = self.head\n",
    "        if self.head is None:\n",
    "            print(\"Linked Lists is empty\")\n",
    "        else:\n",
    "            while n is not None:\n",
    "                print(n.data,end = \" \")\n",
    "                n = n.ref\n",
    "                \n",
    "    def add_begin(self,data):\n",
    "        new_node = Node(data)\n",
    "        new_node.ref = self.head\n",
    "        self.head = new_node\n",
    "        \n",
    "    def add_end(self,data):\n",
    "        new_node = Node(data)\n",
    "        if self.head is None:\n",
    "            self.head = new_node\n",
    "        else:\n",
    "            n = self.head\n",
    "            while n.ref is not None:\n",
    "                n = n.ref\n",
    "            n.ref = new_node\n",
    "            \n",
    "LL1 = LinkedLists()\n",
    "LL1.add_begin(10)\n",
    "LL1.add_end(75)\n",
    "LL1.add_begin(15)\n",
    "LL1.add_end(85)\n",
    "LL1.print_LL()\n",
    "            \n",
    "            "
   ]
  },
  {
   "cell_type": "markdown",
   "metadata": {},
   "source": [
    "### **Insertion of elements in between the nodes**\n",
    "\n",
    "1. After a given node"
   ]
  },
  {
   "cell_type": "code",
   "execution_count": 8,
   "metadata": {},
   "outputs": [
    {
     "name": "stdout",
     "output_type": "stream",
     "text": [
      "20 30 10 40 "
     ]
    }
   ],
   "source": [
    "class Node:\n",
    "    def __init__(self,data):\n",
    "        self.data = data\n",
    "        self.ref = None\n",
    "        \n",
    "class LinkedLists:\n",
    "    def __init__(self):\n",
    "        self.head = None\n",
    "        \n",
    "    def print_LL(self):\n",
    "        n = self.head\n",
    "        if self.head is None:\n",
    "            print(\"Linked Lists is empty\")\n",
    "        else:\n",
    "            while n is not None:\n",
    "                print(n.data,end = \" \")\n",
    "                n = n.ref\n",
    "                \n",
    "    def add_begin(self,data):\n",
    "        new_node = Node(data)\n",
    "        new_node.ref = self.head\n",
    "        self.head = new_node\n",
    "        \n",
    "    def add_end(self,data):\n",
    "        new_node = Node(data)\n",
    "        n = self.head\n",
    "        if self.head is None:\n",
    "            self.head = new_node\n",
    "        else:\n",
    "            while n.ref is not None:\n",
    "                n = n.ref\n",
    "                \n",
    "            n.ref = new_node\n",
    "            \n",
    "    def add_after(self,data,x):\n",
    "        n = self.head\n",
    "        while n is not None:\n",
    "            if x == n.data:\n",
    "                break\n",
    "            else:\n",
    "                n = n.ref\n",
    "                \n",
    "        if n is None:\n",
    "            print(\"Node is not present in Linked Lists\")\n",
    "        else:\n",
    "            new_node = Node(data)\n",
    "            new_node.ref = n.ref\n",
    "            n.ref = new_node\n",
    "            \n",
    "LL = LinkedLists()\n",
    "LL.add_begin(10)\n",
    "LL.add_begin(20)\n",
    "LL.add_end(40)\n",
    "LL.add_after(30,20)\n",
    "LL.print_LL()\n",
    "        \n",
    "        "
   ]
  },
  {
   "cell_type": "markdown",
   "metadata": {},
   "source": [
    "2. Before a given node"
   ]
  },
  {
   "cell_type": "code",
   "execution_count": 10,
   "metadata": {},
   "outputs": [
    {
     "name": "stdout",
     "output_type": "stream",
     "text": [
      "10 20 30 40 50 "
     ]
    }
   ],
   "source": [
    "class Node:\n",
    "    def __init__(self,data):\n",
    "        self.data = data\n",
    "        self.ref = None\n",
    "        \n",
    "class LinkedLists:\n",
    "    def __init__(self):\n",
    "        self.head = None\n",
    "        \n",
    "    def print_LL(self):\n",
    "        n = self.head\n",
    "        if self.head is None:\n",
    "            print(\"Linked Lists is empty\")\n",
    "        else:\n",
    "            while n is not None:\n",
    "                print(n.data,end = \" \")\n",
    "                n = n.ref\n",
    "                \n",
    "    def add_begin(self,data):\n",
    "        new_node = Node(data)\n",
    "        new_node.ref = self.head\n",
    "        self.head = new_node\n",
    "        \n",
    "    def add_end(self,data):\n",
    "        new_node = Node(data)\n",
    "        n = self.head\n",
    "        if self.head is None:\n",
    "            self.head = new_node\n",
    "        else:\n",
    "            while n.ref is not None:\n",
    "                n = n.ref\n",
    "                \n",
    "            n.ref = new_node\n",
    "            \n",
    "    def add_after(self,data,x):\n",
    "        n = self.head\n",
    "        while n is not None:\n",
    "            if x == n.data:\n",
    "                break\n",
    "            else:\n",
    "                n = n.ref\n",
    "        if n is None:\n",
    "            print(\"Node is not present in LinkedLists\")\n",
    "        else:\n",
    "            new_node = Node(data)\n",
    "            new_node.ref = n.ref\n",
    "            n.ref = new_node\n",
    "            \n",
    "    def add_before(self,data,x):\n",
    "        if self.head.data is None:\n",
    "            print(\"Linked Lists is empty\")\n",
    "            return\n",
    "        \n",
    "        if self.head.data == x:\n",
    "            new_node = Node(data)\n",
    "            new_node.ref = self.head\n",
    "            self.head = new_node\n",
    "        else:\n",
    "            n = self.head\n",
    "            while n is not None:\n",
    "                if n.ref.data == x:\n",
    "                    break\n",
    "                else:\n",
    "                    n = n.ref\n",
    "                    \n",
    "            if n.ref is None:\n",
    "                print(\"Node is not found\")\n",
    "            else:\n",
    "                new_node = Node(data)\n",
    "                new_node.ref = n.ref\n",
    "                n.ref = new_node\n",
    "                \n",
    "LL1 = LinkedLists()\n",
    "LL1.add_begin(20)\n",
    "LL1.add_begin(10)\n",
    "LL1.add_end(50)\n",
    "LL1.add_after(40,20)\n",
    "LL1.add_before(30,40)\n",
    "LL1.print_LL()\n",
    "        \n",
    "            "
   ]
  },
  {
   "cell_type": "markdown",
   "metadata": {},
   "source": [
    "### **Insertion in the empty Linked Lists**"
   ]
  },
  {
   "cell_type": "code",
   "execution_count": 2,
   "metadata": {},
   "outputs": [
    {
     "name": "stdout",
     "output_type": "stream",
     "text": [
      "Linked Lists is not empty\n",
      "10 "
     ]
    }
   ],
   "source": [
    "class Node:\n",
    "    def __init__(self,data):\n",
    "        self.data = data\n",
    "        self.ref = None\n",
    "        \n",
    "class LinkedLists:\n",
    "    def __init__(self):\n",
    "        self.head = None\n",
    "        \n",
    "    def print_LL(self):\n",
    "        if self.head is None:\n",
    "            print(\"Linked Lists is empty\")\n",
    "        else:\n",
    "            n = self.head\n",
    "            while n is not None:\n",
    "                print(n.data,end = \" \")\n",
    "                n = n.ref\n",
    "                \n",
    "    def insert_empty(self,data):\n",
    "        if self.head is None:\n",
    "            new_node = Node(data)\n",
    "            self.head = new_node\n",
    "            \n",
    "        else:\n",
    "            print(\"Linked Lists is not empty\")\n",
    "            \n",
    "            \n",
    "LL1 = LinkedLists()\n",
    "LL1.insert_empty(10)\n",
    "LL1.insert_empty(20)\n",
    "LL1.print_LL()\n",
    "                "
   ]
  },
  {
   "cell_type": "markdown",
   "metadata": {},
   "source": [
    "### **Deletion of First node in LinkedLists**"
   ]
  },
  {
   "cell_type": "code",
   "execution_count": 7,
   "metadata": {},
   "outputs": [
    {
     "name": "stdout",
     "output_type": "stream",
     "text": [
      "20 10 "
     ]
    }
   ],
   "source": [
    "class Node:\n",
    "    def __init__(self,data):\n",
    "        self.data = data\n",
    "        self.ref = None\n",
    "        \n",
    "class LinkedLists:\n",
    "    def __init__(self):\n",
    "        self.head = None\n",
    "        \n",
    "    def print_LL(self):\n",
    "        n = self.head\n",
    "        while n is not None:\n",
    "            print(n.data,end = \" \")\n",
    "            n = n.ref\n",
    "            \n",
    "    def add_begin(self,data):\n",
    "        new_node = Node(data)\n",
    "        new_node.ref = self.head\n",
    "        self.head = new_node\n",
    "        \n",
    "    def delete_begin(self):\n",
    "        if self.head is None:\n",
    "            print(\"Linked Lists is empty so we can't delete the node\")\n",
    "        else:\n",
    "            self.head = self.head.ref\n",
    "            \n",
    "LL1 = LinkedLists()\n",
    "LL1.add_begin(10)\n",
    "LL1.add_begin(20)\n",
    "LL1.add_begin(30)\n",
    "LL1.delete_begin()\n",
    "LL1.print_LL()"
   ]
  },
  {
   "cell_type": "markdown",
   "metadata": {},
   "source": [
    "### **Deletion of last node in Linked Lists**"
   ]
  },
  {
   "cell_type": "code",
   "execution_count": 5,
   "metadata": {},
   "outputs": [
    {
     "name": "stdout",
     "output_type": "stream",
     "text": [
      "40 30 20 10  \n",
      "40 30 20 "
     ]
    }
   ],
   "source": [
    "class Node:\n",
    "    def __init__(self,data):\n",
    "        self.data = data\n",
    "        self.ref = None\n",
    "        \n",
    "class LinkedLists:\n",
    "    def __init__(self):\n",
    "        self.head = None\n",
    "        \n",
    "    def print_LL(self):\n",
    "        n = self.head\n",
    "        while n is not None:\n",
    "            print(n.data,end = \" \")\n",
    "            n = n.ref\n",
    "            \n",
    "    def add_begin(self,data):\n",
    "        new_node = Node(data)\n",
    "        new_node.ref = self.head\n",
    "        self.head = new_node\n",
    "    def delete_end(self):\n",
    "        if self.head is None:\n",
    "            print(\"Linked Lists is empty so we can't delete nodes\")\n",
    "        elif self.head.ref is None:\n",
    "            self.head = None\n",
    "        else:\n",
    "            n = self.head\n",
    "            while n.ref.ref is not None:\n",
    "                 n = n.ref\n",
    "            n.ref = None\n",
    "            \n",
    "LL1 = LinkedLists()\n",
    "LL1.add_begin(10)\n",
    "LL1.add_begin(20)\n",
    "LL1.add_begin(30)\n",
    "LL1.add_begin(40)\n",
    "LL1.print_LL()\n",
    "print(\" \")\n",
    "LL1.delete_end()\n",
    "LL1.print_LL()\n",
    "            "
   ]
  },
  {
   "cell_type": "markdown",
   "metadata": {},
   "source": [
    "### **Deletion of any node in Linked Lists**"
   ]
  },
  {
   "cell_type": "code",
   "execution_count": 8,
   "metadata": {},
   "outputs": [
    {
     "name": "stdout",
     "output_type": "stream",
     "text": [
      "40 30 20 10 \n",
      "40 20 10 "
     ]
    }
   ],
   "source": [
    "class Node:\n",
    "    def __init__(self,data):\n",
    "        self.data = data\n",
    "        self.ref = None\n",
    "\n",
    "class LinkedLists:\n",
    "    def __init__(self):\n",
    "        self.head = None\n",
    "        \n",
    "    def print_LL(self):\n",
    "        n = self.head\n",
    "        if self.head is None:\n",
    "            print(\"Linked Lists is empty\")\n",
    "        else:\n",
    "            while n is not None:\n",
    "                print(n.data,end = \" \")\n",
    "                n = n.ref\n",
    "                \n",
    "    def add_begin(self,data):\n",
    "        new_node = Node(data)\n",
    "        new_node.ref = self.head\n",
    "        self.head = new_node\n",
    "        \n",
    "    def delete_by_value(self,x):\n",
    "        if self.head is None:\n",
    "            print(\"Linked Lists is empty so we can't delete\")\n",
    "        elif x == self.head.data:\n",
    "            self.head = self.head.ref\n",
    "        else:\n",
    "            n = self.head\n",
    "            while n.ref is not None:\n",
    "                if x == n.ref.data:\n",
    "                    break\n",
    "                n = n.ref\n",
    "                \n",
    "            if n.ref is None:\n",
    "                print(\"Node is not present\")\n",
    "            else:\n",
    "                n.ref = n.ref.ref\n",
    "                \n",
    "LL = LinkedLists()\n",
    "LL.add_begin(10)\n",
    "LL.add_begin(20)\n",
    "LL.add_begin(30)\n",
    "LL.add_begin(40)\n",
    "LL.print_LL()\n",
    "print()\n",
    "LL.delete_by_value(30)\n",
    "LL.print_LL()\n",
    "                "
   ]
  },
  {
   "cell_type": "code",
   "execution_count": null,
   "metadata": {},
   "outputs": [],
   "source": []
  }
 ],
 "metadata": {
  "kernelspec": {
   "display_name": "Python 3",
   "language": "python",
   "name": "python3"
  },
  "language_info": {
   "codemirror_mode": {
    "name": "ipython",
    "version": 3
   },
   "file_extension": ".py",
   "mimetype": "text/x-python",
   "name": "python",
   "nbconvert_exporter": "python",
   "pygments_lexer": "ipython3",
   "version": "3.8.3"
  }
 },
 "nbformat": 4,
 "nbformat_minor": 4
}
