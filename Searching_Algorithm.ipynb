{
 "cells": [
  {
   "cell_type": "markdown",
   "metadata": {},
   "source": [
    "## Searching Algorithm"
   ]
  },
  {
   "cell_type": "markdown",
   "metadata": {},
   "source": [
    "### Linear Search\n"
   ]
  },
  {
   "cell_type": "code",
   "execution_count": 2,
   "metadata": {},
   "outputs": [
    {
     "name": "stdout",
     "output_type": "stream",
     "text": [
      "23 4 5 6 8 9 24 7 10\n",
      "Enter the key6\n",
      "Key is found\n"
     ]
    }
   ],
   "source": [
    "def LinearSearch(list1,key):\n",
    "    Found = False\n",
    "    for i in list1:\n",
    "        if i==key:\n",
    "            Found=True\n",
    "            break\n",
    "        else:\n",
    "            pass\n",
    "    if Found==True:\n",
    "        print(\"Key is found\")\n",
    "    else:\n",
    "        print(\"Key is not found\")\n",
    "        \n",
    "list1 = list(map(int,input().split()))\n",
    "key = int(input(\"Enter the key\"))\n",
    "LinearSearch(list1,key)\n",
    "        "
   ]
  },
  {
   "cell_type": "markdown",
   "metadata": {},
   "source": [
    "### Bineary Search"
   ]
  },
  {
   "cell_type": "code",
   "execution_count": 3,
   "metadata": {},
   "outputs": [
    {
     "name": "stdout",
     "output_type": "stream",
     "text": [
      "23 5 7 2 4 6 10 13 9\n",
      "Enter the key10\n",
      "Key is found\n"
     ]
    }
   ],
   "source": [
    "def BinarySearch(l1,k):\n",
    "    low = 0\n",
    "    high = len(l1)-1\n",
    "    Found = False\n",
    "    while low<=high and not Found:\n",
    "        mid = (low+high)//2\n",
    "        if k==l1[mid]:\n",
    "            Found = True\n",
    "        elif k > l1[mid]:\n",
    "            low = mid+1\n",
    "        else:\n",
    "            high = mid-1\n",
    "    if Found==True:\n",
    "        print(\"Key is found\")\n",
    "    else:\n",
    "        print(\"Key is not found\")\n",
    "        \n",
    "l1 = list(map(int,input().split()))\n",
    "k = int(input(\"Enter the key\"))\n",
    "BinarySearch(l1,k)"
   ]
  },
  {
   "cell_type": "code",
   "execution_count": null,
   "metadata": {},
   "outputs": [],
   "source": []
  }
 ],
 "metadata": {
  "kernelspec": {
   "display_name": "Python 3",
   "language": "python",
   "name": "python3"
  },
  "language_info": {
   "codemirror_mode": {
    "name": "ipython",
    "version": 3
   },
   "file_extension": ".py",
   "mimetype": "text/x-python",
   "name": "python",
   "nbconvert_exporter": "python",
   "pygments_lexer": "ipython3",
   "version": "3.8.3"
  }
 },
 "nbformat": 4,
 "nbformat_minor": 4
}
