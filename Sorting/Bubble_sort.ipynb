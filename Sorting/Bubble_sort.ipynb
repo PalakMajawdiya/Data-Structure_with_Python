{
 "cells": [
  {
   "cell_type": "markdown",
   "metadata": {},
   "source": [
    "### Bubble sort for ascending order"
   ]
  },
  {
   "cell_type": "code",
   "execution_count": 4,
   "metadata": {},
   "outputs": [
    {
     "name": "stdout",
     "output_type": "stream",
     "text": [
      "5\n",
      "10\n",
      "15\n",
      "4\n",
      "23\n",
      "0\n",
      "List before sorting:  [10, 15, 4, 23, 0]\n",
      "List after sorting:  [0, 4, 10, 15, 23]\n"
     ]
    }
   ],
   "source": [
    "n=int(input())\n",
    "list1=[int(input()) for i in range(n)]\n",
    "print(\"List before sorting: \",list1)\n",
    "for i in range(len(list1)-1):\n",
    "    for j in range(len(list1)-1-i):\n",
    "        if list1[j] > list1[j+1]:\n",
    "            list1[j],list1[j+1]=list1[j+1],list1[j]\n",
    "            \n",
    "print(\"List after sorting: \",list1)"
   ]
  },
  {
   "cell_type": "markdown",
   "metadata": {},
   "source": [
    "### Bubble sort for Descending order"
   ]
  },
  {
   "cell_type": "code",
   "execution_count": 5,
   "metadata": {},
   "outputs": [
    {
     "name": "stdout",
     "output_type": "stream",
     "text": [
      "5\n",
      "10\n",
      "15\n",
      "4\n",
      "23\n",
      "0\n",
      "List before sorting:  [10, 15, 4, 23, 0]\n",
      "List after sorting:  [23, 15, 10, 4, 0]\n"
     ]
    }
   ],
   "source": [
    "n=int(input())\n",
    "list1=[int(input()) for i in range(n)]\n",
    "print(\"List before sorting: \",list1)\n",
    "for i in range(len(list1)-1):\n",
    "    for j in range(len(list1)-1-i):\n",
    "        if list1[j] < list1[j+1]:\n",
    "            list1[j],list1[j+1]=list1[j+1],list1[j]\n",
    "print(\"List after sorting: \",list1)"
   ]
  },
  {
   "cell_type": "code",
   "execution_count": null,
   "metadata": {},
   "outputs": [],
   "source": []
  }
 ],
 "metadata": {
  "kernelspec": {
   "display_name": "Python 3",
   "language": "python",
   "name": "python3"
  },
  "language_info": {
   "codemirror_mode": {
    "name": "ipython",
    "version": 3
   },
   "file_extension": ".py",
   "mimetype": "text/x-python",
   "name": "python",
   "nbconvert_exporter": "python",
   "pygments_lexer": "ipython3",
   "version": "3.8.3"
  }
 },
 "nbformat": 4,
 "nbformat_minor": 4
}
