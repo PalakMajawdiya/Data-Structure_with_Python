{
 "cells": [
  {
   "cell_type": "markdown",
   "metadata": {},
   "source": [
    "### Insertion Sort for Ascending order"
   ]
  },
  {
   "cell_type": "code",
   "execution_count": 5,
   "metadata": {},
   "outputs": [
    {
     "name": "stdout",
     "output_type": "stream",
     "text": [
      "2 3 5 4 1\n",
      "Before Sorting:  [2, 3, 5, 4, 1]\n",
      "After Sorting:  [1, 2, 3, 4, 5]\n"
     ]
    }
   ],
   "source": [
    "def InsertionSort(list1):\n",
    "    for i in range(1,len(list1)):\n",
    "        current_val = list1[i]\n",
    "        pos = i\n",
    "        while current_val < list1[pos-1] and pos > 0:\n",
    "            list1[pos] , list1[pos-1] = list1[pos-1],list1[pos]\n",
    "            pos = pos-1\n",
    "        list1[pos] = current_val\n",
    "        \n",
    "list1 = list(map(int,input().split()))\n",
    "print(\"Before Sorting: \",list1)\n",
    "InsertionSort(list1)\n",
    "print(\"After Sorting: \",list1)"
   ]
  },
  {
   "cell_type": "markdown",
   "metadata": {},
   "source": [
    "### Insertion Sort For Descending order"
   ]
  },
  {
   "cell_type": "code",
   "execution_count": 8,
   "metadata": {},
   "outputs": [
    {
     "name": "stdout",
     "output_type": "stream",
     "text": [
      "5\n",
      "2\n",
      "3\n",
      "5\n",
      "4\n",
      "1\n",
      "Before Sorting:  [2, 3, 5, 4, 1]\n",
      "After Sorting:  [5, 4, 3, 2, 1]\n"
     ]
    }
   ],
   "source": [
    "def InsertionSort(list1):\n",
    "    for i in range(1,len(list1)):\n",
    "        current_val = list1[i]\n",
    "        pos = i\n",
    "        while current_val > list1[pos-1] and pos > 0:\n",
    "            list1[pos] , list1[pos-1] = list1[pos-1],list1[pos]\n",
    "            pos = pos-1\n",
    "        list1[pos] = current_val\n",
    "\n",
    "n = int(input())\n",
    "list1 = [int(input()) for i in range(n)]\n",
    "print(\"Before Sorting: \",list1)\n",
    "InsertionSort(list1)\n",
    "print(\"After Sorting: \",list1)"
   ]
  },
  {
   "cell_type": "code",
   "execution_count": null,
   "metadata": {},
   "outputs": [],
   "source": []
  }
 ],
 "metadata": {
  "kernelspec": {
   "display_name": "Python 3",
   "language": "python",
   "name": "python3"
  },
  "language_info": {
   "codemirror_mode": {
    "name": "ipython",
    "version": 3
   },
   "file_extension": ".py",
   "mimetype": "text/x-python",
   "name": "python",
   "nbconvert_exporter": "python",
   "pygments_lexer": "ipython3",
   "version": "3.8.3"
  }
 },
 "nbformat": 4,
 "nbformat_minor": 4
}
