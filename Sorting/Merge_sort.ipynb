{
 "cells": [
  {
   "cell_type": "markdown",
   "metadata": {},
   "source": [
    "### Merge Sort for Ascending order\n"
   ]
  },
  {
   "cell_type": "code",
   "execution_count": 4,
   "metadata": {},
   "outputs": [
    {
     "name": "stdout",
     "output_type": "stream",
     "text": [
      "7\n",
      "20\n",
      "1\n",
      "50\n",
      "40\n",
      "10\n",
      "5\n",
      "17\n",
      "List before sorting:  [20, 1, 50, 40, 10, 5, 17]\n",
      "List after sorting:  [1, 5, 10, 17, 20, 40, 50]\n"
     ]
    }
   ],
   "source": [
    "def mergesort(list1):\n",
    "    if len(list1) >1:\n",
    "        #For Splitting the list\n",
    "        mid = len(list1)//2\n",
    "        left_list = list1[:mid]\n",
    "        right_list = list1[mid:]\n",
    "        mergesort(left_list)\n",
    "        mergesort(right_list)\n",
    "        \n",
    "        # Now compare the splitted list and combine them in list1\n",
    "        i=0\n",
    "        j=0\n",
    "        k=0\n",
    "        while i<len(left_list) and j <len(right_list):\n",
    "            if left_list[i] < right_list[j]:\n",
    "                list1[k] = left_list[i]\n",
    "                i +=1\n",
    "                k +=1\n",
    "            else:\n",
    "                list1[k] = right_list[j]\n",
    "                j +=1\n",
    "                k +=1\n",
    "        \n",
    "        # Now check if any element is left in right_list or left_list and if then add it to the list1\n",
    "        \n",
    "        while i <len(left_list):\n",
    "            list1[k] = left_list[i]\n",
    "            i +=1\n",
    "            k +=1\n",
    "        while j < len(right_list):\n",
    "            list1[k] = right_list[j]\n",
    "            j +=1\n",
    "            k +=1\n",
    "            \n",
    "n = int(input())\n",
    "list1 = [int(input()) for i in range(n)]\n",
    "print(\"List before sorting: \",list1)\n",
    "mergesort(list1)\n",
    "print(\"List after sorting: \",list1)"
   ]
  },
  {
   "cell_type": "markdown",
   "metadata": {},
   "source": [
    "### Merge sort for Descending order"
   ]
  },
  {
   "cell_type": "code",
   "execution_count": 6,
   "metadata": {},
   "outputs": [
    {
     "name": "stdout",
     "output_type": "stream",
     "text": [
      "7\n",
      "20\n",
      "1\n",
      "50\n",
      "40\n",
      "10\n",
      "5\n",
      "17\n",
      "List before sorting:  [20, 1, 50, 40, 10, 5, 17]\n",
      "List after sorting:  [50, 40, 20, 17, 10, 5, 1]\n"
     ]
    }
   ],
   "source": [
    "def mergesort(list1):\n",
    "    if len(list1) > 1:\n",
    "        mid = len(list1)//2\n",
    "        left_list = list1[:mid]\n",
    "        right_list = list1[mid:]\n",
    "        mergesort(left_list)\n",
    "        mergesort(right_list)\n",
    "        \n",
    "        i=0\n",
    "        j=0\n",
    "        k=0\n",
    "        while i<len(left_list) and j < len(right_list):\n",
    "            if left_list[i] > right_list[j]:\n",
    "                list1[k] = left_list[i]\n",
    "                i +=1\n",
    "                k +=1\n",
    "            else:\n",
    "                list1[k] = right_list[j]\n",
    "                j +=1\n",
    "                k +=1\n",
    "        while i < len(left_list):\n",
    "            list1[k] = left_list[i]\n",
    "            i +=1\n",
    "            k +=1\n",
    "        while j < len(right_list):\n",
    "            list1[k] = right_list[j]\n",
    "            j +=1\n",
    "            k +=1\n",
    "            \n",
    "n = int(input())\n",
    "list1 = [int(input()) for i in range(n)]\n",
    "print(\"List before sorting: \",list1)\n",
    "mergesort(list1)\n",
    "print(\"List after sorting: \",list1)"
   ]
  },
  {
   "cell_type": "code",
   "execution_count": null,
   "metadata": {},
   "outputs": [],
   "source": []
  }
 ],
 "metadata": {
  "kernelspec": {
   "display_name": "Python 3",
   "language": "python",
   "name": "python3"
  },
  "language_info": {
   "codemirror_mode": {
    "name": "ipython",
    "version": 3
   },
   "file_extension": ".py",
   "mimetype": "text/x-python",
   "name": "python",
   "nbconvert_exporter": "python",
   "pygments_lexer": "ipython3",
   "version": "3.8.3"
  }
 },
 "nbformat": 4,
 "nbformat_minor": 4
}
