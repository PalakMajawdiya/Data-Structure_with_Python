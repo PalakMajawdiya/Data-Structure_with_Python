{
 "cells": [
  {
   "cell_type": "markdown",
   "metadata": {},
   "source": [
    "### Quick sort for ascending order by taking first element of list as pivot"
   ]
  },
  {
   "cell_type": "code",
   "execution_count": 4,
   "metadata": {},
   "outputs": [
    {
     "name": "stdout",
     "output_type": "stream",
     "text": [
      "7\n",
      "20\n",
      "1\n",
      "50\n",
      "40\n",
      "10\n",
      "5\n",
      "17\n",
      "List before sorting:  [20, 1, 50, 40, 10, 5, 17]\n",
      "List after sorting:  [1, 5, 10, 17, 20, 40, 50]\n"
     ]
    }
   ],
   "source": [
    "#Function to get the correct position of pivot element\n",
    "def pivot_place(list1,first,last):\n",
    "    pivot = list1[first]\n",
    "    left = first+1\n",
    "    right=last\n",
    "    while True:\n",
    "        while left <= right and list1[left] <=pivot:\n",
    "            left +=1\n",
    "        while left <= right and list1[right] >= pivot:\n",
    "            right -=1\n",
    "        if right<left:\n",
    "            break\n",
    "        else:\n",
    "            list1[left] , list1[right] = list1[right],list1[left]\n",
    "            \n",
    "        #if right<left then swap the pivot element with the right index element\n",
    "    list1[first],list1[right] = list1[right],list1[first]\n",
    "    return right\n",
    "    \n",
    "def quicksort(list1,first,last):\n",
    "    if first<=last:\n",
    "        p = pivot_place(list1,first,last)\n",
    "        quicksort(list1,first,p-1)\n",
    "        quicksort(list1,p+1,last)\n",
    "        \n",
    "n = int(input())\n",
    "list1=[int(input()) for i in range(n)]\n",
    "l = len(list1)\n",
    "print(\"List before sorting: \",list1)\n",
    "quicksort(list1,0,l-1)\n",
    "print(\"List after sorting: \",list1)\n",
    "        \n",
    "        "
   ]
  },
  {
   "cell_type": "markdown",
   "metadata": {},
   "source": [
    "### Quick sort for descending order by taking first element of list as pivot"
   ]
  },
  {
   "cell_type": "code",
   "execution_count": 2,
   "metadata": {},
   "outputs": [
    {
     "name": "stdout",
     "output_type": "stream",
     "text": [
      "7\n",
      "20\n",
      "1\n",
      "50\n",
      "40\n",
      "10\n",
      "5\n",
      "17\n",
      "List before sorting:  [20, 1, 50, 40, 10, 5, 17]\n",
      "List after sorting:  [50, 40, 20, 17, 10, 5, 1]\n"
     ]
    }
   ],
   "source": [
    "def pivot_place(list1,first,last):\n",
    "    pivot = list1[first]\n",
    "    left = first+1\n",
    "    right = last\n",
    "    \n",
    "    while True:\n",
    "        while left <=right and list1[left] >=pivot:\n",
    "            left +=1\n",
    "        while left <=right and list1[right] <=pivot:\n",
    "            right -=1\n",
    "        if right<left:\n",
    "            break\n",
    "        else:\n",
    "            list1[left],list1[right] = list1[right],list1[left]\n",
    "    list1[first],list1[right] = list1[right],list1[first]\n",
    "    return right\n",
    "\n",
    "def quicksort(list1,first,last):\n",
    "    if first<=last:\n",
    "        p = pivot_place(list1,first,last)\n",
    "        quicksort(list1,first,p-1)\n",
    "        quicksort(list1,p+1,last)\n",
    "        \n",
    "n=int(input())\n",
    "list1=[int(input()) for i in range(n)]\n",
    "l = len(list1)\n",
    "print(\"List before sorting: \",list1)\n",
    "quicksort(list1,0,l-1)\n",
    "print(\"List after sorting: \",list1)"
   ]
  },
  {
   "cell_type": "markdown",
   "metadata": {},
   "source": [
    "### Quick sort by taking last element as pivot"
   ]
  },
  {
   "cell_type": "code",
   "execution_count": 6,
   "metadata": {},
   "outputs": [
    {
     "name": "stdout",
     "output_type": "stream",
     "text": [
      "7\n",
      "20\n",
      "1\n",
      "50\n",
      "40\n",
      "10\n",
      "5\n",
      "17\n",
      "List before sorting:  [20, 1, 50, 40, 10, 5, 17]\n",
      "List after sorting:  [1, 5, 10, 17, 20, 40, 50]\n"
     ]
    }
   ],
   "source": [
    "def pivot_place(list1,first,last):\n",
    "    pivot = list1[last]\n",
    "    left = first\n",
    "    right = last-1\n",
    "    while True:\n",
    "        while left<=right and list1[left] <=pivot:\n",
    "            left +=1\n",
    "        while left<=right and list1[right] >=pivot:\n",
    "            right -=1\n",
    "        if right<left:\n",
    "            break\n",
    "        else:\n",
    "            list1[left],list1[right] = list1[right],list1[left]\n",
    "    list1[last],list1[left] = list1[left],list1[last]\n",
    "    return left\n",
    "\n",
    "def quicksort(list1,first,last):\n",
    "    if first<=last:\n",
    "        p = pivot_place(list1,first,last)\n",
    "        quicksort(list1,first,p-1)\n",
    "        quicksort(list1,p+1,last)\n",
    "        \n",
    "n = int(input())\n",
    "list1 = [int(input()) for i in range(n)]\n",
    "l=len(list1)\n",
    "print(\"List before sorting: \",list1)\n",
    "quicksort(list1,0,l-1)\n",
    "print(\"List after sorting: \",list1)"
   ]
  },
  {
   "cell_type": "markdown",
   "metadata": {},
   "source": [
    "### Quick sort by taking any random element from list as pivot"
   ]
  },
  {
   "cell_type": "code",
   "execution_count": 7,
   "metadata": {},
   "outputs": [
    {
     "name": "stdout",
     "output_type": "stream",
     "text": [
      "7\n",
      "20\n",
      "1\n",
      "50\n",
      "40\n",
      "10\n",
      "5\n",
      "17\n",
      "List before sorting:  [20, 1, 50, 40, 10, 5, 17]\n",
      "List after sorting:  [1, 5, 10, 17, 20, 40, 50]\n"
     ]
    }
   ],
   "source": [
    "import random\n",
    "\n",
    "def pivot_place(list1,first,last):\n",
    "    rindex=random.randint(first,last)\n",
    "    list1[rindex],list1[last]=list1[last],list1[rindex]\n",
    "    pivot=list1[last]\n",
    "    left=first\n",
    "    right=last-1\n",
    "    while True:\n",
    "        while left<=right and list1[left]<=pivot:\n",
    "            left +=1\n",
    "        while left <=right and list1[right] >=pivot:\n",
    "            right -=1\n",
    "        if right<left:\n",
    "            break\n",
    "        else:\n",
    "            list1[left],list1[right] = list1[right],list1[left]\n",
    "    list1[last],list1[left] = list1[left],list1[last]\n",
    "    return left\n",
    "\n",
    "def quicksort(list1,first,last):\n",
    "    if first<=last:\n",
    "        p=pivot_place(list1,first,last)\n",
    "        quicksort(list1,first,p-1)\n",
    "        quicksort(list1,p+1,last)\n",
    "        \n",
    "n=int(input())\n",
    "list1=[int(input()) for i in range(n)]\n",
    "l=len(list1)\n",
    "print(\"List before sorting: \",list1)\n",
    "quicksort(list1,0,l-1)\n",
    "print(\"List after sorting: \",list1)"
   ]
  },
  {
   "cell_type": "markdown",
   "metadata": {},
   "source": [
    "### Quick sort by taking pivot element as the median of three values that are value at first\n",
    "### position , value at last position and value at middle position"
   ]
  },
  {
   "cell_type": "code",
   "execution_count": 10,
   "metadata": {},
   "outputs": [
    {
     "name": "stdout",
     "output_type": "stream",
     "text": [
      "7\n",
      "20\n",
      "1\n",
      "50\n",
      "40\n",
      "10\n",
      "5\n",
      "17\n",
      "List before sorting: [1, 5, 10, 17, 20, 40, 50]\n",
      "List afters sorting:  [1, 5, 10, 17, 20, 40, 50]\n"
     ]
    }
   ],
   "source": [
    "import statistics\n",
    "\n",
    "def pivot_place(list1,first,last):\n",
    "    low=list1[first]\n",
    "    high=list1[last]\n",
    "    mid = list1[(first+last)//2]\n",
    "    pivot_val=statistics.median([low,mid,high])\n",
    "    if pivot_val==low:\n",
    "        pindex=first\n",
    "    elif pivot_val==high:\n",
    "        pindex=last\n",
    "    else:\n",
    "        pindex = list1.index(mid)\n",
    "    list1[last],list1[pindex] = list1[pindex],list1[last]\n",
    "    \n",
    "    pivot=list1[last]\n",
    "    left=first\n",
    "    right=last-1\n",
    "    while True:\n",
    "        while left<=right and list1[left]<=pivot:\n",
    "            left+=1\n",
    "        while left<=right and list1[right] >=pivot:\n",
    "            right -=1\n",
    "        if right<left:\n",
    "            break\n",
    "        else:\n",
    "            list1[left],list1[right]=list1[right],list1[left]\n",
    "    list1[last],list1[left]=list1[left],list1[last]\n",
    "    return left\n",
    "\n",
    "def quicksort(list1,first,last):\n",
    "    if first<=last:\n",
    "        p=pivot_place(list1,first,last)\n",
    "        quicksort(list1,first,p-1)\n",
    "        quicksort(list1,p+1,last)\n",
    "        \n",
    "n=int(input())\n",
    "list=[int(input()) for i in range(n)]\n",
    "l=len(list1)\n",
    "print(\"List before sorting:\",list1)\n",
    "quicksort(list1,0,l-1)\n",
    "print(\"List afters sorting: \",list1)\n",
    "        "
   ]
  },
  {
   "cell_type": "code",
   "execution_count": null,
   "metadata": {},
   "outputs": [],
   "source": []
  }
 ],
 "metadata": {
  "kernelspec": {
   "display_name": "Python 3",
   "language": "python",
   "name": "python3"
  },
  "language_info": {
   "codemirror_mode": {
    "name": "ipython",
    "version": 3
   },
   "file_extension": ".py",
   "mimetype": "text/x-python",
   "name": "python",
   "nbconvert_exporter": "python",
   "pygments_lexer": "ipython3",
   "version": "3.8.3"
  }
 },
 "nbformat": 4,
 "nbformat_minor": 4
}
