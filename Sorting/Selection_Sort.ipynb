{
 "cells": [
  {
   "cell_type": "markdown",
   "metadata": {},
   "source": [
    "## Sorting Algorithms"
   ]
  },
  {
   "cell_type": "markdown",
   "metadata": {},
   "source": [
    "### SELECTION SORT"
   ]
  },
  {
   "cell_type": "markdown",
   "metadata": {},
   "source": [
    "#### Program Using Min Function"
   ]
  },
  {
   "cell_type": "code",
   "execution_count": 3,
   "metadata": {},
   "outputs": [
    {
     "name": "stdout",
     "output_type": "stream",
     "text": [
      "56 3 2 78 6 0\n",
      "Before Sorting:  [56, 3, 2, 78, 6, 0]\n",
      "After Sorting:  [0, 2, 3, 6, 56, 78]\n"
     ]
    }
   ],
   "source": [
    "#sorting is ascending order\n",
    "list1 = list(map(int,input().split()))\n",
    "print(\"Before Sorting: \",list1)\n",
    "\n",
    "for i in range(len(list1)):\n",
    "    min_val = min(list1[i:])\n",
    "    min_ind = list1.index(min_val)\n",
    "    list1[i],list1[min_ind] = list1[min_ind],list1[i]\n",
    "    \n",
    "print(\"After Sorting: \",list1)\n"
   ]
  },
  {
   "cell_type": "code",
   "execution_count": 4,
   "metadata": {},
   "outputs": [
    {
     "name": "stdout",
     "output_type": "stream",
     "text": [
      "56 3 2 78 6 0\n",
      "Before Sorting:  [56, 3, 2, 78, 6, 0]\n",
      "After Sorting:  [78, 56, 6, 3, 2, 0]\n"
     ]
    }
   ],
   "source": [
    "#sorting in descending order\n",
    "list1 = list(map(int,input().split()))\n",
    "print(\"Before Sorting: \",list1)\n",
    "\n",
    "for i in range(len(list1)):\n",
    "    max_val = max(list1[i:])\n",
    "    max_ind = list1.index(max_val)\n",
    "    list1[i],list1[max_ind] = list1[max_ind],list1[i]\n",
    "    \n",
    "print(\"After Sorting: \",list1)"
   ]
  },
  {
   "cell_type": "markdown",
   "metadata": {},
   "source": [
    "### Selection Sort For Duplicate Values"
   ]
  },
  {
   "cell_type": "code",
   "execution_count": 7,
   "metadata": {},
   "outputs": [
    {
     "name": "stdout",
     "output_type": "stream",
     "text": [
      "56 0 2 2 6 0\n",
      "Before Sorting:  [56, 0, 2, 2, 6, 0]\n",
      "After Sorting:  [0, 0, 2, 2, 6, 56]\n"
     ]
    }
   ],
   "source": [
    "list1 = list(map(int,input().split()))\n",
    "print(\"Before Sorting: \",list1)\n",
    "\n",
    "for i in range(len(list1)):\n",
    "    min_val = min(list1[i:])\n",
    "    min_ind = list1.index(min_val,i)\n",
    "    if list1[i] != list1[min_ind]:\n",
    "        list1[i],list1[min_ind] = list1[min_ind],list1[i]\n",
    "        \n",
    "print(\"After Sorting: \",list1)"
   ]
  },
  {
   "cell_type": "markdown",
   "metadata": {},
   "source": [
    "### Without Using Inbuilt Function min() and index()"
   ]
  },
  {
   "cell_type": "code",
   "execution_count": 8,
   "metadata": {},
   "outputs": [
    {
     "name": "stdout",
     "output_type": "stream",
     "text": [
      "34 5 6 81 0 5\n",
      "Before Sorting:  [34, 5, 6, 81, 0, 5]\n",
      "After Sorting:  [0, 5, 5, 6, 34, 81]\n"
     ]
    }
   ],
   "source": [
    "#Sorting in ascending order\n",
    "list1 = list(map(int,input().split()))\n",
    "print(\"Before Sorting: \",list1)\n",
    "\n",
    "for i in range(len(list1)):\n",
    "    min_val = list1[i]\n",
    "    min_ind = i\n",
    "    for j in range(i+1,len(list1)):\n",
    "        if list1[j]<min_val:\n",
    "            min_val = list1[j]\n",
    "            min_ind = j\n",
    "    if list1[i] != list1[min_ind]:\n",
    "        list1[i],list1[min_ind] = list1[min_ind],list1[i]\n",
    "        \n",
    "print(\"After Sorting: \",list1)"
   ]
  },
  {
   "cell_type": "code",
   "execution_count": 10,
   "metadata": {},
   "outputs": [
    {
     "name": "stdout",
     "output_type": "stream",
     "text": [
      "34 5 6 81 0 5\n",
      "Before Sorting:  [34, 5, 6, 81, 0, 5]\n",
      "After Sorting:  [81, 34, 6, 5, 5, 0]\n"
     ]
    }
   ],
   "source": [
    "#Sorting in descending order\n",
    "list1 = list(map(int,input().split()))\n",
    "print(\"Before Sorting: \",list1)\n",
    "\n",
    "for i in range(len(list1)):\n",
    "    max_val = list1[i]\n",
    "    max_ind = i\n",
    "    for j in range(i+1,len(list1)):\n",
    "        if list1[j] > max_val:\n",
    "            max_val = list1[j]\n",
    "            max_ind = j\n",
    "    if list1[i] != list1[max_ind]:\n",
    "        list1[i],list1[max_ind] = list1[max_ind],list1[i]\n",
    "        \n",
    "print(\"After Sorting: \",list1)"
   ]
  },
  {
   "cell_type": "code",
   "execution_count": null,
   "metadata": {},
   "outputs": [],
   "source": []
  }
 ],
 "metadata": {
  "kernelspec": {
   "display_name": "Python 3",
   "language": "python",
   "name": "python3"
  },
  "language_info": {
   "codemirror_mode": {
    "name": "ipython",
    "version": 3
   },
   "file_extension": ".py",
   "mimetype": "text/x-python",
   "name": "python",
   "nbconvert_exporter": "python",
   "pygments_lexer": "ipython3",
   "version": "3.8.3"
  }
 },
 "nbformat": 4,
 "nbformat_minor": 4
}
