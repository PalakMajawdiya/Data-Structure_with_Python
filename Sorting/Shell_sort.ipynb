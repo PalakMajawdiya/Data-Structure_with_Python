{
 "cells": [
  {
   "cell_type": "markdown",
   "metadata": {},
   "source": [
    "### Shell sort for ascending order"
   ]
  },
  {
   "cell_type": "code",
   "execution_count": 1,
   "metadata": {},
   "outputs": [
    {
     "name": "stdout",
     "output_type": "stream",
     "text": [
      "9\n",
      "54\n",
      "26\n",
      "93\n",
      "17\n",
      "77\n",
      "31\n",
      "44\n",
      "55\n",
      "20\n",
      "List before sorting:  [54, 26, 93, 17, 77, 31, 44, 55, 20]\n",
      "List after sorting:  [17, 20, 26, 31, 44, 54, 55, 77, 93]\n"
     ]
    }
   ],
   "source": [
    "def shellsort(list1):\n",
    "    gap=len(list1)//2\n",
    "    while gap>0:\n",
    "        for i in range(gap,len(list1)):\n",
    "            current_element = list1[i]\n",
    "            pos=i\n",
    "            while pos >=gap and current_element <list1[pos-gap]:\n",
    "                list1[pos],list1[pos-gap]=list1[pos-gap],list1[pos]\n",
    "                pos=pos-gap\n",
    "            list1[pos]=current_element\n",
    "        gap=gap//2\n",
    "        \n",
    "n=int(input())\n",
    "list1=[int(input()) for i in range(n)]\n",
    "print(\"List before sorting: \",list1)\n",
    "shellsort(list1)\n",
    "print(\"List after sorting: \",list1)"
   ]
  },
  {
   "cell_type": "markdown",
   "metadata": {},
   "source": [
    "### Shell sort fo descending order"
   ]
  },
  {
   "cell_type": "code",
   "execution_count": 3,
   "metadata": {},
   "outputs": [
    {
     "name": "stdout",
     "output_type": "stream",
     "text": [
      "9\n",
      "54\n",
      "26\n",
      "93\n",
      "17\n",
      "77\n",
      "31\n",
      "44\n",
      "55\n",
      "20\n",
      "List before sorting:  [54, 26, 93, 17, 77, 31, 44, 55, 20]\n",
      "List after sorting:  [93, 77, 55, 54, 44, 31, 26, 20, 17]\n"
     ]
    }
   ],
   "source": [
    "def shellsort(list1):\n",
    "    gap=len(list1)//2\n",
    "    while gap>0:\n",
    "        for i in range(gap,len(list1)):\n",
    "            current_element=list1[i]\n",
    "            pos = i\n",
    "            while pos>=gap and current_element>list1[pos-gap]:\n",
    "                list1[pos],list1[pos-gap]=list1[pos-gap],list1[pos]\n",
    "                pos=pos-gap\n",
    "            list1[pos]=current_element\n",
    "        gap=gap//2\n",
    "\n",
    "        \n",
    "n=int(input())\n",
    "list1=[int(input()) for i in range(n)]\n",
    "print(\"List before sorting: \",list1)\n",
    "shellsort(list1)\n",
    "print(\"List after sorting: \",list1)"
   ]
  },
  {
   "cell_type": "code",
   "execution_count": null,
   "metadata": {},
   "outputs": [],
   "source": []
  }
 ],
 "metadata": {
  "kernelspec": {
   "display_name": "Python 3",
   "language": "python",
   "name": "python3"
  },
  "language_info": {
   "codemirror_mode": {
    "name": "ipython",
    "version": 3
   },
   "file_extension": ".py",
   "mimetype": "text/x-python",
   "name": "python",
   "nbconvert_exporter": "python",
   "pygments_lexer": "ipython3",
   "version": "3.8.3"
  }
 },
 "nbformat": 4,
 "nbformat_minor": 4
}
